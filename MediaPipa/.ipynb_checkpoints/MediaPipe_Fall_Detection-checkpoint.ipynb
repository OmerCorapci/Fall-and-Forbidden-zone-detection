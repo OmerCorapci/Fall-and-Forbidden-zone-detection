{
 "cells": [
  {
   "cell_type": "markdown",
   "metadata": {},
   "source": [
    "# Determining Joints"
   ]
  },
  {
   "cell_type": "markdown",
   "metadata": {},
   "source": [
    "<img src=\"https://i.imgur.com/3j8BPdc.png\" style=\"height:300px\" >"
   ]
  },
  {
   "cell_type": "code",
   "execution_count": 1,
   "metadata": {},
   "outputs": [],
   "source": [
    "import cv2\n",
    "import mediapipe as mp\n",
    "import numpy as np\n",
    "import time\n",
    "import sqlite3\n",
    "import logging\n",
    "import os\n",
    "\n",
    "mp_drawing = mp.solutions.drawing_utils\n",
    "mp_pose = mp.solutions.pose"
   ]
  },
  {
   "cell_type": "code",
   "execution_count": 2,
   "metadata": {},
   "outputs": [],
   "source": [
    "def show_fps(frame, prev_frame_time, new_frame_time):\n",
    "    new_frame_time = time.time()\n",
    "    \n",
    "    fps = 1/(new_frame_time-prev_frame_time)\n",
    "    \n",
    "    prev_frame_time = new_frame_time\n",
    "    \n",
    "    fps = str(int(fps))\n",
    "    \n",
    "    cv2.putText(frame, fps+\" FPS\", (2, 30), cv2.FONT_HERSHEY_SIMPLEX, 1, (100, 255, 0), 3, cv2.LINE_AA)\n",
    "    \n",
    "    return  prev_frame_time, new_frame_time"
   ]
  },
  {
   "cell_type": "code",
   "execution_count": 3,
   "metadata": {},
   "outputs": [],
   "source": [
    "def fall_detect(frame, current_keypoints, threshold, fall_time_start):\n",
    "    \n",
    "    email_sender = pass\n",
    "    email_password = pass\n",
    "    email_receiver = pass\n",
    "    mail_title = \"Fall Detection\"\n",
    "    \n",
    "    if current_keypoints[0].visibility >= threshold and (current_keypoints[26].visibility >= threshold or current_keypoints[25].visibility  >= threshold):  \n",
    "        try:\n",
    "            if abs(current_keypoints[0].y - current_keypoints[26].y) <0.05 or abs(current_keypoints[0].y - current_keypoints[25].y) <0.05:\n",
    "                cv2.putText(frame, \"FALL DETECTED\", (2, 60), cv2.FONT_HERSHEY_SIMPLEX, 1, (0, 0, 255), 3, cv2.LINE_AA)\n",
    "                if  fall_time_start == 0: \n",
    "                    date = loggingg(warning_name=\"FALL DETECTED\")\n",
    "                    date = take_ss(frame, date, warning_type= \"Fall_Detected_\")\n",
    "                    mail_body = date\n",
    "                    \n",
    "                    #auto_mail(date, mail_title , mail_body, email_sender, email_password, email_receiver)\n",
    "                    print(\"FALL DETECTED\")\n",
    "                    fall_time_start = time.time()\n",
    "                else:\n",
    "                    answ = time.time() - fall_time_start\n",
    "                    if answ > 50:\n",
    "                        fall_time_start = 0\n",
    "                \n",
    "                return fall_time_start\n",
    "        except:\n",
    "            print(\"Some problem\")\n",
    "    return fall_time_start"
   ]
  },
  {
   "cell_type": "code",
   "execution_count": 4,
   "metadata": {},
   "outputs": [],
   "source": [
    "def forbidden_zone(frame, current_keypoints, threshold, forbidden_timer):\n",
    "    \n",
    "    email_sender = pass\n",
    "    email_password = pass\n",
    "    email_receiver = pass\n",
    "    mail_title = \"Forbiden Zone\"\n",
    "    \n",
    "    \n",
    "    if current_keypoints[30].visibility >= threshold or current_keypoints[31].visibility  >= threshold: \n",
    "        try:\n",
    "            if (int(current_keypoints[30].x * 1280) >= 1000 and int(current_keypoints[30].y * 720) >= 300) or (int(current_keypoints[31].x*1280) >= 1000 and int(current_keypoints[31].y*720) >= 300):\n",
    "                cv2.line(frame, (1000, 300), (1000, 720), (0, 0, 255), 5)\n",
    "                cv2.line(frame, (1000, 300), (1280, 300), (0, 0, 255), 5)\n",
    "                cv2.putText(frame, \"Forbidden Zone\", (1010, 290), cv2.FONT_HERSHEY_SIMPLEX, 0.8, (0, 0, 255), 2, cv2.LINE_AA)\n",
    "                \n",
    "                if forbidden_timer == 0:\n",
    "                \n",
    "                    date = loggingg(warning_name=\"Entry into forbidden zone\")\n",
    "                    date = take_ss(frame, date, warning_type = \"Forbidden_Zone_\")\n",
    "                    \n",
    "                    mail_body = date\n",
    "                    \n",
    "                    #auto_mail(date, mail_title , mail_body, email_sender, email_password, email_receiver)\n",
    "                    print(\"Entry into forbidden zone\")\n",
    "                    forbidden_timer = time.time()\n",
    "                    \n",
    "                else:\n",
    "                    answ = time.time() - forbidden_timer\n",
    "                    if answ > 50:\n",
    "                        forbidden_timer = 0\n",
    "                        \n",
    "                return forbidden_timer\n",
    "        except:\n",
    "            print(\"Some problem\")\n",
    "    return forbidden_timer"
   ]
  },
  {
   "cell_type": "code",
   "execution_count": 5,
   "metadata": {},
   "outputs": [],
   "source": [
    "def loggingg(warning_name):\n",
    "    logging.getLogger().warning(warning_name)\n",
    "    with open('logfile.txt') as f:\n",
    "        lines = f.readlines()[-1][:19].replace(' ', '_')\n",
    "        lines = lines.replace(':', '-')\n",
    "        return lines"
   ]
  },
  {
   "cell_type": "code",
   "execution_count": 6,
   "metadata": {},
   "outputs": [],
   "source": [
    "def take_ss(frame ,date, warning_type):\n",
    "    cv2.imwrite(\"images/\"+warning_type+date+\".jpg\" ,frame)\n",
    "    return warning_type+date"
   ]
  },
  {
   "cell_type": "code",
   "execution_count": 7,
   "metadata": {},
   "outputs": [],
   "source": [
    "def video_write(frame):\n",
    "    videoo.write(frame)"
   ]
  },
  {
   "cell_type": "code",
   "execution_count": 8,
   "metadata": {},
   "outputs": [],
   "source": [
    "def auto_mail(date, mail_title, mail_body, email_sender, email_password, email_receiver ):\n",
    "    \n",
    "    from email.mime.text import MIMEText\n",
    "    from email.mime.image import MIMEImage\n",
    "    from email.mime.application import MIMEApplication\n",
    "    from email.mime.multipart import MIMEMultipart\n",
    "    import smtplib\n",
    "    import os\n",
    "\n",
    "\n",
    "    smtp = smtplib.SMTP('smtp.gmail.com', 587)\n",
    "    smtp.ehlo()\n",
    "    smtp.starttls()\n",
    "    smtp.login(email_sender, email_password)\n",
    "    \n",
    "    msg = MIMEMultipart()\n",
    "    \n",
    "    msg['Subject'] = mail_title\n",
    "    msg.attach(MIMEText(mail_body))\n",
    "    \n",
    "    img_data = open(\"images/\"+date+\".jpg\", 'rb').read()\n",
    "    msg.attach(MIMEImage(img_data, \n",
    "                         name=os.path.basename(date+\".jpg\")))\n",
    "\n",
    "    smtp.sendmail(from_addr = email_sender,\n",
    "                  to_addrs = [email_receiver], msg = msg.as_string())\n",
    "    smtp.quit()"
   ]
  },
  {
   "cell_type": "code",
   "execution_count": 9,
   "metadata": {
    "scrolled": true
   },
   "outputs": [
    {
     "name": "stdout",
     "output_type": "stream",
     "text": [
      "FALL DETECTED\n",
      "Entry into forbidden zone\n"
     ]
    }
   ],
   "source": [
    "cap = cv2.VideoCapture(\"queda.mp4\")\n",
    "\n",
    "prev_frame_time = 0\n",
    "new_frame_time = 0\n",
    "\n",
    "logging.basicConfig(filename=\"logfile.txt\",format=\"%(asctime)s %(message)s\",filemode=\"w\",level=logging.WARNING)\n",
    "\n",
    "width = int(cap.get(3))\n",
    "height = int(cap.get(4))\n",
    "\n",
    "\n",
    "#If you want to save it as a video. Remove the 2 comment lines below\n",
    "fourcc = cv2.VideoWriter_fourcc(*'MP4V')\n",
    "videoo = cv2.VideoWriter('video.mp4', fourcc, 20.0, (width, height))\n",
    "\n",
    "fall_time_start = 0\n",
    "forbidden_timer = 0\n",
    "## Setup mediapipe instance\n",
    "with mp_pose.Pose(min_detection_confidence=0.3, min_tracking_confidence=0.3) as pose:\n",
    "    while cap.isOpened():\n",
    "        ret, frame = cap.read()\n",
    "        \n",
    "        # Recolor image to RGB\n",
    "        frame = cv2.cvtColor(frame, cv2.COLOR_BGR2RGB)\n",
    "        frame.flags.writeable = False\n",
    "      \n",
    "        # Make detection\n",
    "        results = pose.process(frame)\n",
    "    \n",
    "        # Recolor back to BGR\n",
    "        frame.flags.writeable = True\n",
    "        frame = cv2.cvtColor(frame, cv2.COLOR_RGB2BGR)\n",
    "        \n",
    "        cv2.line(frame, (1000, 300), (1000, 720), (0, 255, 0), 5)\n",
    "        cv2.line(frame, (1000, 300), (1280, 300), (0, 255, 0), 5)\n",
    "        cv2.putText(frame, \"Forbidden Zone\", (1010, 290), cv2.FONT_HERSHEY_SIMPLEX, 0.8, (0, 255, 0), 2, cv2.LINE_AA)\n",
    "        \n",
    "        # Render detections\n",
    "        mp_drawing.draw_landmarks(frame, results.pose_landmarks, mp_pose.POSE_CONNECTIONS,\n",
    "                                mp_drawing.DrawingSpec(color=(0,0,255), thickness=2, circle_radius=2), \n",
    "                                mp_drawing.DrawingSpec(color=(0,255,0), thickness=2, circle_radius=2) \n",
    "                                 )               \n",
    "        \n",
    "        prev_frame_time, new_frame_time = show_fps(frame, prev_frame_time, new_frame_time)\n",
    "        \n",
    "        try:\n",
    "            current_keypoints = results.pose_landmarks.landmark\n",
    "            threshold = 0.3\n",
    "            fall_time_start = fall_detect(frame, current_keypoints, threshold, fall_time_start)\n",
    "            forbidden_timer = forbidden_zone(frame, current_keypoints, threshold, forbidden_timer)\n",
    "        except:\n",
    "            pass\n",
    "        \n",
    "        video_write(frame)\n",
    "        cv2.imshow('Mediapipe Feed', frame)       \n",
    "            \n",
    "        if cv2.waitKey(10) & 0xFF == ord('q'):\n",
    "            break\n",
    "\n",
    "    cap.release()\n",
    "    videoo.release()\n",
    "    cv2.destroyAllWindows()"
   ]
  }
 ],
 "metadata": {
  "kernelspec": {
   "display_name": "Python 3 (ipykernel)",
   "language": "python",
   "name": "python3"
  },
  "language_info": {
   "codemirror_mode": {
    "name": "ipython",
    "version": 3
   },
   "file_extension": ".py",
   "mimetype": "text/x-python",
   "name": "python",
   "nbconvert_exporter": "python",
   "pygments_lexer": "ipython3",
   "version": "3.9.12"
  }
 },
 "nbformat": 4,
 "nbformat_minor": 2
}
